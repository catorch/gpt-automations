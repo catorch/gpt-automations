{
  "nbformat": 4,
  "nbformat_minor": 0,
  "metadata": {
    "colab": {
      "provenance": []
    },
    "kernelspec": {
      "name": "python3",
      "display_name": "Python 3"
    },
    "language_info": {
      "name": "python"
    }
  },
  "cells": [
    {
      "cell_type": "code",
      "source": [
        "!pip install openai"
      ],
      "metadata": {
        "id": "pAWt2xoz1Zjb"
      },
      "execution_count": null,
      "outputs": []
    },
    {
      "cell_type": "code",
      "source": [
        "import imaplib\n",
        "import email\n",
        "from email.header import decode_header\n",
        "import webbrowser\n",
        "import os\n",
        "import datetime\n",
        "from openai import OpenAI"
      ],
      "metadata": {
        "id": "SNltvmcNyvtW"
      },
      "execution_count": null,
      "outputs": []
    },
    {
      "cell_type": "markdown",
      "source": [
        "# Fetch email & summarize it with GPT-4"
      ],
      "metadata": {
        "id": "bg6PENL222dp"
      }
    },
    {
      "cell_type": "code",
      "source": [
        "# Initialize OpenAI client\n",
        "client = OpenAI(\n",
        "    api_key=openai_api_key\n",
        ")\n",
        "\n",
        "# Create an IMAP4 class with SSL\n",
        "mail = imaplib.IMAP4_SSL(\"imap.gmail.com\")\n",
        "# Authenticate\n",
        "mail.login(username, password)\n",
        "\n",
        "# Select the Inbox\n",
        "mail.select(\"inbox\")\n",
        "\n",
        "# Define the date from which you want to search emails\n",
        "days_limit = 30\n",
        "v_start_date = (datetime.date.today() - datetime.timedelta(days=days_limit)).strftime(\"%d-%b-%Y\")\n",
        "\n",
        "# Search for emails in the Promotions category since the specified date\n",
        "status, messages = mail.uid('search', None, f'SINCE {v_start_date} X-GM-RAW \"category:promotions\"')\n",
        "\n",
        "# Convert messages to a list of email UIDs\n",
        "email_uids = messages[0].split()\n",
        "\n",
        "# Fetch the most recent email\n",
        "if email_uids:\n",
        "    most_recent_email_uid = email_uids[-1]\n",
        "\n",
        "    # Fetch the email by UID\n",
        "    status, msg_data = mail.uid('fetch', most_recent_email_uid, \"(RFC822)\")\n",
        "\n",
        "    # Parse the email content\n",
        "    for response_part in msg_data:\n",
        "        if isinstance(response_part, tuple):\n",
        "            msg = email.message_from_bytes(response_part[1])\n",
        "            # Decode the email subject\n",
        "            subject, encoding = decode_header(msg[\"Subject\"])[0]\n",
        "            if isinstance(subject, bytes):\n",
        "                subject = subject.decode(encoding if encoding else \"utf-8\")\n",
        "            # Decode the email sender\n",
        "            from_ = msg.get(\"From\")\n",
        "            print(\"Subject:\", subject)\n",
        "            print(\"From:\", from_)\n",
        "\n",
        "            # Initialize variable to store email body\n",
        "            email_body = \"\"\n",
        "\n",
        "            # If the email message is multipart\n",
        "            if msg.is_multipart():\n",
        "                # Iterate over email parts\n",
        "                for part in msg.walk():\n",
        "                    # Extract content type of email\n",
        "                    content_type = part.get_content_type()\n",
        "                    content_disposition = str(part.get(\"Content-Disposition\"))\n",
        "\n",
        "                    try:\n",
        "                        # Get the email body\n",
        "                        body = part.get_payload(decode=True).decode()\n",
        "                    except:\n",
        "                        pass\n",
        "                    if content_type == \"text/plain\" and \"attachment\" not in content_disposition:\n",
        "                        email_body = body\n",
        "                    elif content_type == \"text/html\":\n",
        "                        email_body = body\n",
        "            else:\n",
        "                # Extract content type of email\n",
        "                content_type = msg.get_content_type()\n",
        "\n",
        "                # Get the email body\n",
        "                body = msg.get_payload(decode=True).decode()\n",
        "                if content_type == \"text/plain\":\n",
        "                    email_body = body\n",
        "\n",
        "            # Summarize the email content using OpenAI API\n",
        "            if email_body:\n",
        "                response = client.chat.completions.create(\n",
        "                    model=\"gpt-4\",\n",
        "                    messages=[\n",
        "                        {\"role\": \"user\", \"content\": f\"Summarize the following email content:\\n\\n{email_body[:8000]}\"}\n",
        "                    ]\n",
        "                )\n",
        "                summary = response.choices[0].message.content\n",
        "                print(\"Summary:\", summary)\n",
        "\n",
        "# Close the connection and logout\n",
        "mail.close()\n",
        "mail.logout()"
      ],
      "metadata": {
        "colab": {
          "base_uri": "https://localhost:8080/"
        },
        "id": "vR6I0SHXz-ff",
        "outputId": "572780b0-4df7-44f1-f05e-d272837d499c"
      },
      "execution_count": null,
      "outputs": [
        {
          "output_type": "stream",
          "name": "stdout",
          "text": [
            "Subject: Welcome To The Players League \n",
            "From: =?utf-8?b?4pmfQ2hlc3MuY29t?= <hello@chess.com>\n",
            "Summary: The email is from Chess.com encouraging its members to earn trophies and climb the ranks of the site.\n"
          ]
        },
        {
          "output_type": "execute_result",
          "data": {
            "text/plain": [
              "('BYE', [b'LOGOUT Requested'])"
            ]
          },
          "metadata": {},
          "execution_count": 33
        }
      ]
    }
  ]
}